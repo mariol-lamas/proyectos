{
 "cells": [
  {
   "cell_type": "code",
   "execution_count": 1,
   "metadata": {},
   "outputs": [],
   "source": [
    "import undetected_chromedriver as uc    #Libreria para crear un driver que no es dectectado por el antibot\n",
    "from selenium.webdriver.support.ui import WebDriverWait\n",
    "from selenium.webdriver.support import expected_conditions as ec\n",
    "from selenium.webdriver.common.by import By\n",
    "import time\n",
    "import numpy as np\n",
    "from bs4 import BeautifulSoup\n",
    "import keyboard as kb\n",
    "import os"
   ]
  },
  {
   "cell_type": "code",
   "execution_count": 2,
   "metadata": {},
   "outputs": [],
   "source": [
    "#Funcion para arrancar el webdriver\n",
    "def iniciar_wd(headless=False):\n",
    "    options=uc.ChromeOptions()\n",
    "    options.add_argument('--password-store=basic')\n",
    "    options.add_experimental_option(\n",
    "        'prefs',\n",
    "        {'credentials_enable_service':False,\n",
    "         'profile.password_manager_enabled':False}\n",
    "    )\n",
    "    if headless:\n",
    "        options.add_argument('--headless')\n",
    "\n",
    "    #Iniciamos el driver\n",
    "    driver=uc.Chrome(options=options,headless=headless,log_level=3)\n",
    "    driver.maximize_window()\n",
    "    \n",
    "    return driver\n",
    "\n"
   ]
  },
  {
   "cell_type": "code",
   "execution_count": 3,
   "metadata": {},
   "outputs": [],
   "source": [
    "def get_ref(obj,num=None):\n",
    "    enlaces=[]\n",
    "    html=obj.get_attribute('outerHTML')\n",
    "    # Crear un objeto BeautifulSoup para analizar el HTML\n",
    "    soup = BeautifulSoup(html, 'html.parser')\n",
    "\n",
    "    # Encontrar todas las etiquetas <a> (enlaces) en la página\n",
    "    etiquetas_a = soup.find_all('a')\n",
    "    if not num:\n",
    "        num=len(etiquetas_a)\n",
    "    for id,elem in enumerate(etiquetas_a):\n",
    "        if id>=num:\n",
    "            break\n",
    "        elif elem['href'].find('stackoverflow.com')!=None:\n",
    "            enlaces.append(elem['href'])\n",
    "        else:\n",
    "            pass\n",
    "    return enlaces\n"
   ]
  },
  {
   "cell_type": "code",
   "execution_count": 4,
   "metadata": {},
   "outputs": [],
   "source": [
    "def most_voted(html):\n",
    "    soup = BeautifulSoup(html, 'html.parser')\n",
    "    # Encuentra el div con data-highest-score=\"1\"\n",
    "    resp=soup.find_all('div',{'class':'answer'})\n",
    "    texto=resp[0].text\n",
    "    token=texto[texto.find('Show activity on this post.')+len('Show activity on this post.'):texto.find('ShareShare')].strip()\n",
    "    return token\n",
    "    "
   ]
  },
  {
   "cell_type": "code",
   "execution_count": 5,
   "metadata": {},
   "outputs": [],
   "source": [
    "# get Stack Overflow Stunning help\n",
    "def get_SOS_help(command):\n",
    "    \n",
    "    try:\n",
    "        exec(command)\n",
    "        \n",
    "    except Exception as e:\n",
    "\n",
    "        # Search for the error on Stack Overflow\n",
    "        query = f\"Stack Overflow {type(e).__name__} {str(e)}\"\n",
    "        search_url = f\"https://www.google.com/search?q={query}\"\n",
    "        driver=iniciar_wd(headless=False)\n",
    "        driver.get(search_url)\n",
    "        wait=WebDriverWait(driver,30)\n",
    "        bot=wait.until(ec.element_to_be_clickable((By.ID, 'W0wltc')))\n",
    "        bot.click()\n",
    "        time.sleep(np.random.randint(1,3))\n",
    "        pag=wait.until(ec.element_to_be_clickable((By.CLASS_NAME,'dURPMd')))\n",
    "        \n",
    "        enlaces=get_ref(pag,4)\n",
    "        driver.quit()\n",
    "        if enlaces:\n",
    "            stack=enlaces[0]\n",
    "            time.sleep(1)\n",
    "            driver1=iniciar_wd()\n",
    "            driver1.get(stack)\n",
    "            pag_html=driver1.page_source\n",
    "            respuesta_mas_votada=most_voted(pag_html)\n",
    "            print('-'*50)\n",
    "            print(\"++LINK AL PRIMER ENLACE++\".center(50,' '))\n",
    "            print('-'*50,f'\\n{stack}\\n\\n')\n",
    "            print('-'*50)\n",
    "            print('++RESPUESTA MAS VOTADA++'.center(50,' '))\n",
    "            print('-'*50,f'\\n{respuesta_mas_votada}\\n\\n')\n",
    "\n",
    "    return"
   ]
  },
  {
   "cell_type": "code",
   "execution_count": 6,
   "metadata": {},
   "outputs": [
    {
     "name": "stdout",
     "output_type": "stream",
     "text": [
      "--------------------------------------------------\n",
      "            ++LINK AL PRIMER ENLACE++             \n",
      "-------------------------------------------------- \n",
      "https://stackoverflow.com/questions/24237111/why-do-i-get-syntaxerror-invalid-syntax-in-a-line-with-perfectly-valid-syntax\n",
      "\n",
      "\n",
      "--------------------------------------------------\n",
      "             ++RESPUESTA MAS VOTADA++             \n",
      "-------------------------------------------------- \n",
      "For earlier versions of Python(1), an error may reported on a line that appears to be correct. In that case, you should try commenting out the line where the error appears to be. If the error moves to the next line, there are two possibilities:\n",
      "\n",
      "Either both lines have a problem (and the second was hidden by the first); or\n",
      "The previous line has a problem which is being carried forward.\n",
      "\n",
      "The latter is more likely, especially if commenting out the new offending line causes the error to move again.\n",
      "For example, consider code like the following, saved as prog.py:\n",
      "xyzzy = (1 +\n",
      "plugh = 7\n",
      "\n",
      "Python 3.8.10 will report an error on line 2, even though the problem is clearly caused by line 1:\n",
      "pax> python3.8 prog.py\n",
      "  File \"prog.py\", line 2\n",
      "    plugh = 7\n",
      "          ^\n",
      "SyntaxError: invalid syntax\n",
      "\n",
      "The code in your question has a similar problem: the code on the previous line to the reported error has unbalanced parentheses.\n",
      "Annotated to make it clearer:\n",
      "# open parentheses: 1  2             3\n",
      "#                   v  v             v\n",
      "fi2=0.460*scipy.sqrt(1-(Tr-0.566)**2/(0.434**2)+0.494\n",
      "#                               ^             ^\n",
      "# close parentheses:            1             2\n",
      "\n",
      "There isn't really a general solution for this - the code needs to be analyzed and understood, in order to determine how the parentheses should be altered.\n",
      "\n",
      "(1) For what it's worth, the new PEG parser introduced in Python 3.9 paved the way for much improved error messages (gradually improving from 3.10 thru 3.12). This includes correctly identifying in the source code where the error is:\n",
      "pax> python3 prog.py\n",
      "  File \"prog.py\", line 1\n",
      "    xyzzy = (1 +\n",
      "            ^\n",
      "SyntaxError: '(' was never closed\n",
      "\n",
      "\n"
     ]
    }
   ],
   "source": [
    "seguir=True\n",
    "while seguir:\n",
    "    command = str(input('Introduce el error que deseas consultar: '))\n",
    "    get_SOS_help(command)\n",
    "    cont=str(input('¿Quieres realizar otra consulta? (Y/N): '))\n",
    "    if cont.upper()=='N':\n",
    "        break\n",
    "    os.system('cls' if os.name == 'nt' else 'clear')\n",
    "    "
   ]
  },
  {
   "cell_type": "code",
   "execution_count": null,
   "metadata": {},
   "outputs": [],
   "source": [
    "from gpt import GPT\n",
    "\n",
    "gpt=GPT('email','password')\n",
    "gpt.buscar_errores(headless=False)"
   ]
  },
  {
   "cell_type": "code",
   "execution_count": null,
   "metadata": {},
   "outputs": [],
   "source": []
  }
 ],
 "metadata": {
  "kernelspec": {
   "display_name": "entorno_prueba",
   "language": "python",
   "name": "python3"
  },
  "language_info": {
   "codemirror_mode": {
    "name": "ipython",
    "version": 3
   },
   "file_extension": ".py",
   "mimetype": "text/x-python",
   "name": "python",
   "nbconvert_exporter": "python",
   "pygments_lexer": "ipython3",
   "version": "3.11.0"
  }
 },
 "nbformat": 4,
 "nbformat_minor": 2
}
