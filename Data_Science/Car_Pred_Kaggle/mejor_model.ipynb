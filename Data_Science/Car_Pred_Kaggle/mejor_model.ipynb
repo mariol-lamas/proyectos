{
 "cells": [
  {
   "cell_type": "code",
   "execution_count": 8,
   "metadata": {},
   "outputs": [
    {
     "name": "stdout",
     "output_type": "stream",
     "text": [
      "1914.482064037366\n"
     ]
    }
   ],
   "source": [
    "import numpy as np \n",
    "import pandas as pd \n",
    "import matplotlib.pyplot as plt\n",
    "import seaborn as sns\n",
    "from sklearn.ensemble import GradientBoostingRegressor, RandomForestRegressor, ExtraTreesRegressor\n",
    "from sklearn.preprocessing import OneHotEncoder, LabelEncoder, StandardScaler\n",
    "from sklearn.metrics import mean_squared_error, make_scorer,r2_score, mean_absolute_error\n",
    "from sklearn.model_selection import cross_val_score, GridSearchCV, train_test_split, KFold\n",
    "from xgboost import XGBRegressor, cv\n",
    "from catboost import CatBoostRegressor\n",
    "from scipy.stats import norm, skew\n",
    "\n",
    "df_train = pd.read_csv('/Users/mariolamas/Desktop/Car-pred-Kaggle/Data/train.csv')\n",
    "df_test=pd.read_csv('/Users/mariolamas/Desktop/Car-pred-Kaggle/Data/test.csv')\n",
    "\n",
    "df_train = df_train.loc[~df_train.duplicated()].reset_index(drop=True)\n",
    "\n",
    "(mu, sigma) = norm.fit(df_train['price'])\n",
    "sns.displot(df_train['price'], kde = True, stat=\"density\", height=6, aspect=2)\n",
    "plt.xlabel(\"Cars's sale Price in $\", fontsize = 10)\n",
    "plt.ylabel(\"Density\", fontsize = 10)\n",
    "plt.legend(['Normal dist. ($\\mu=$ {:.2f} and $\\sigma=$ {:.2f} )'.format(mu, sigma)])\n",
    "plt.show()\n",
    "\n",
    "df_train.loc[:, 'price'] = np.log1p(df_train.price)\n",
    "\n",
    "(mu, sigma) = norm.fit(df_train['price'])\n",
    "sns.displot(df_train['price'], kde = True, stat=\"density\", height=6, aspect=2)\n",
    "plt.xlabel(\"Car's sale Price in $\", fontsize = 10)\n",
    "plt.ylabel(\"Density\", fontsize = 10)\n",
    "plt.legend(['Normal dist. ($\\mu=$ {:.2f} and $\\sigma=$ {:.2f} )'.format(mu, sigma)])\n",
    "plt.show()\n",
    "\n",
    "data = pd.concat([df_train, df_test], axis=0, ignore_index=True, sort=False)\n",
    "data.running = data.running.apply(lambda x: int(x.split()[0]) if 'km' in x else int(x.split()[0])*1.60934)\n",
    "data.loc[:, 'running'] = np.log1p(data.running)\n",
    "data = data.drop(['wheel', 'Id'], axis=1)\n",
    "\n",
    "#data[\"running_per_motor\"] = data[\"running\"] / data[\"motor_volume\"]\n",
    "data['running_per_year'] = data['running'] / (2024-data['year'])\n",
    "\n",
    "corr = data.select_dtypes('number').corr()\n",
    "plt.figure(figsize=(6, 6))\n",
    "sns.heatmap(corr , fmt = '0.3f', cmap = 'YlGnBu', annot=True, cbar=False)\n",
    "plt.tight_layout()\n",
    "plt.show()\n",
    "\n",
    "data = pd.get_dummies(data, dtype=int).reset_index(drop=True)\n",
    "train = data[~data[\"price\"].isnull()]\n",
    "test = data[data[\"price\"].isnull()]\n",
    "\n",
    "X = train.drop('price',axis=1)\n",
    "y = train.price\n",
    "X_test = test.drop('price', axis=1)\n",
    "\n",
    "params = {'booster': 'gbtree',\n",
    "          'max_depth': 3,\n",
    "          'max_leaves': 769,\n",
    "          'learning_rate': 0.04538451353216046,\n",
    "          'n_estimators': 1171,\n",
    "          'min_child_weight': 13,\n",
    "          'subsample': 0.6578720167306904,\n",
    "          'reg_alpha': 0.4622943878867952,\n",
    "          'reg_lambda': 0.6211309481623339,\n",
    "          'colsample_bylevel': 0.7985625445322192,\n",
    "          'colsample_bytree': 0.9634723040072963,\n",
    "          'colsample_bynode': 0.49814271378837316,\n",
    "          'random_state': 42,\n",
    "          'objective': 'reg:absoluteerror',\n",
    "          'n_jobs': -1,\n",
    "         }\n",
    "xgb = XGBRegressor(**params)\n",
    "xgb.fit(X, y)\n",
    "\n",
    "parms={ 'iterations': 200, 'learning_rate': 0.05942399107771988, 'depth': 8, 'l2_leaf_reg': 7}\n",
    "best_regressor=CatBoostRegressor(loss_function='MAE', silent=True,**parms)\n",
    "best_regressor.fit(X, y) \n",
    "test_preds_1 = best_regressor.predict(X_test)\n",
    "\n",
    "df_test.loc[:, 'price'] = np.expm1(xgb.predict(X_test))*0.7 + np.expm1(test_preds_1)*0.3\n",
    "submission = df_test[['Id', 'price']]\n",
    "submission.to_csv(\"submission.csv\", index=False)"
   ]
  },
  {
   "cell_type": "code",
   "execution_count": null,
   "metadata": {},
   "outputs": [],
   "source": [
    "#Resultado actual 1834"
   ]
  }
 ],
 "metadata": {
  "kernelspec": {
   "display_name": "base",
   "language": "python",
   "name": "python3"
  },
  "language_info": {
   "codemirror_mode": {
    "name": "ipython",
    "version": 3
   },
   "file_extension": ".py",
   "mimetype": "text/x-python",
   "name": "python",
   "nbconvert_exporter": "python",
   "pygments_lexer": "ipython3",
   "version": "3.11.5"
  }
 },
 "nbformat": 4,
 "nbformat_minor": 2
}
